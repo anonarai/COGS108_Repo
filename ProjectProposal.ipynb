{
 "cells": [
  {
   "cell_type": "markdown",
   "metadata": {},
   "source": [
    "# COGS 108 - Project Proposal"
   ]
  },
  {
   "cell_type": "markdown",
   "metadata": {},
   "source": [
    "## Important\n",
    "\n",
    "- Make sure all group members (3-6 people) are listed in the group members section.\n",
    "- ONE, and only one, member of your group should upload this notebook to TritonED. \n",
    "- Each member of the group will receive the same grade on this assignment. \n",
    "- Keep the file name the same: submit the file 'ProjectProposal.ipynb'"
   ]
  },
  {
   "cell_type": "markdown",
   "metadata": {},
   "source": [
    "## Overview"
   ]
  },
  {
   "cell_type": "markdown",
   "metadata": {},
   "source": [
    "Read the project description and detailed instructions for this assignment in the 'ProjectOutline' document."
   ]
  },
  {
   "cell_type": "markdown",
   "metadata": {},
   "source": [
    "## Group Members: Fill in the Student IDs of each group member here\n",
    "\n",
    "Replace the lines below to list each persons full student ID. Add lines as needed for your group size, and make sure each ID is listed on a separate line. \n",
    "\n",
    "- A13606136\n",
    "- A13370320\n",
    "- A14074010"
   ]
  },
  {
   "cell_type": "markdown",
   "metadata": {},
   "source": [
    "### Research Question\n",
    "\n",
    "What is your research question? (1-2 sentences)"
   ]
  },
  {
   "cell_type": "markdown",
   "metadata": {},
   "source": [
    "Is there a significant relationship between the distribution of race and ethnicity and infant mortality rates throughout the United States? \n"
   ]
  },
  {
   "cell_type": "markdown",
   "metadata": {},
   "source": [
    "### Hypothesis\n",
    "\n",
    "What is your main hypothesis and predictions? (2-3 sentences)"
   ]
  },
  {
   "cell_type": "markdown",
   "metadata": {},
   "source": [
    "Based on certain publicized statistics that women of color are more likely to die in childbirth, we predict that the distribution of race and ethnicity in a region will also be reflected in infant mortality rates; furthermore, counties with higher populations of women of color i.e Black and Hispanic women will most likely have higher infant mortality rates, while counties with higher percentages of white women will have lower infant mortality rates. "
   ]
  },
  {
   "cell_type": "markdown",
   "metadata": {},
   "source": [
    "### Dataset(s)\n",
    "\n",
    "What data will you use to answer your question? Describe the dataset(s) in terms of number of observations, what kind of features it contains, etc. You must use at least one dataset containing at least approximately 1000 observations (if your data are smaller but you feel they are sufficient, email Prof. Voytek). You are welcome (and in fact recommended) to find multiple datasets! If you do so, describe each one, and briefly explain how you will combine them together. "
   ]
  },
  {
   "cell_type": "markdown",
   "metadata": {},
   "source": [
    "*Fill in your dataset information here*\n",
    "\n",
    "(Copy this information for each dataset)\n",
    "- Dataset Name: Infant mortality : County Health Rankings, via CDC\n",
    "- Link to the dataset:http://www.countyhealthrankings.org/explore-health-rankings/what-and-why-we-rank/health-outcomes/mortality/premature-death/infant-mortality\n",
    "- Number of observations: We plan on randomly picking 1000 counties from across the country\n",
    "\n",
    "- Dataset Name: ACS DEMOGRAPHIC AND HOUSING ESTIMATES, US Census\n",
    "- Link to the dataset:https://factfinder.census.gov/\n",
    "- Number of observations: We plan on randomly picking 1000 counties from across the country\n",
    "\n",
    "\n",
    "1-2 sentences describing the dataset: \n",
    "We downloaded the dataset as a .txt file from the link above. The dataset conatains 5 columns: \"County Name, State\", \"Year\", \"Number of Infant Deaths\", \"Population\", \"Deaths per 100,000\". \n",
    "\n",
    "The file from the US Census, gives the numbers and percentages of race per county.\n",
    "\n",
    "If you plan to use multiple datasets, add 1-2 sentences about how you plan to combine these datasets.\n",
    "We hope to combine these data sets based on county i.e, using county as a common index."
   ]
  },
  {
   "cell_type": "markdown",
   "metadata": {},
   "source": [
    "### Background and Prior Work\n",
    "\n",
    "Why is this question of interest, what background information led you to your hypothesis, and why is this important?\n",
    "\n",
    "Find some relevant prior work, and reference those sources. Even if you think you have a totally novel question, find the most similar prior work that you can and discuss how it relates to your project. \n",
    "\n",
    "References can be research publications, but they need not be. Blogs, github repositories, company websites, etc., are all viable references if they are relevant to your project.\n",
    "\n",
    "(2-3 paragraphs, including at least 2 references)"
   ]
  },
  {
   "cell_type": "markdown",
   "metadata": {},
   "source": [
    "*Fill in your background and prior work here* \n",
    "\n",
    "Throughout history, the disparities between white people and people of color has always been stark, especially in the realm of health and healthcare in the United States. These inequities have been observed and reported upon recently in the effect of race and ethnicity on infant mortality. For example, NPR reported that black mothers are 3 times more likely to die in childbirth than their white counterparts, showing that infants born into minority groups have an initial and perpetual disadvantage in care. Our group wanted to analyze whether or not this gap in care was reflected in infant mortality and showed higher rates of death among infants based on race and ethnicity. The hypothesis stemmed from the logic that if maternal death rates are higher among women of color, then infant mortality rates must follow the same trend. While this is a bleak subject, it is important in strengthening the dire situation our Black mothers and children are facing. \n",
    "\n",
    "References (include links):\n",
    "- 1)https://www.nytimes.com/2018/04/11/magazine/black-mothers-babies-death-maternal-mortality.html\n",
    "- 2)https://www.npr.org/2017/12/07/568948782/black-mothers-keep-dying-after-giving-birth-shalon-irvings-story-explains-why"
   ]
  },
  {
   "cell_type": "markdown",
   "metadata": {},
   "source": [
    "### Proposed Methods\n",
    "\n",
    "What methods will you use to analyze your data?\n",
    "\n",
    "- How 'clean' is the data? To the extent that it requires cleaning, how will you do so?\n",
    "- How will you analyze the data? Be as specific as you can. Briefly mention any pre-processing steps that are required for your methods (for example, checking data distributions and performing any transformations that may be required). Include a brief outline of how you will apply your chosen method(s). \n",
    "- What do you plan to report? Briefly mention any key visualizations you plan to create, and/or the kind of results you will be able to report that address your question (this could be, for example, the outcome of some statistical test(s), prediction error on a model, a model fit parameter, etc.).\n",
    "- Include a list of packages you expect to use for you project. If you plan to use packages we have not used in class, add a very brief description about them (a few words is sufficient). "
   ]
  },
  {
   "cell_type": "markdown",
   "metadata": {},
   "source": [
    "*Fill in your proposed methods information here:*\n",
    "\n",
    "*Data Cleaning (2-3 sentences)*\n",
    "We downloaded both of our datasets as .csv files and .txt files, so there’s no need for using any API’s or other web scraping methods. We hope to arrange our data to look something like this: \n",
    "(State, County, Infant Mortality Rate, % Black/African American population, % White population)\n",
    "\n",
    "Each county will include the rate of infant mortality as well as the proportion of Black, White, and Hispanic population. We will exclude rows with any null values and ensure that we will only take data provided during and after 2010 (which is from the last US Census to present). \n",
    "\n",
    "*Data Analysis (1-2 paragraphs)*\n",
    "\n",
    "We will analyze relationships between race, infant mortality rate, and geographical location via correlative comparisons. We will need to find the percentage of Black and White populations per county, since the data is reported as numbers, not percantages. We will also convert the number of deaths per 100,000 to a rate, in order to generate a smoother graph and more understandable results. \n",
    "\n",
    "*What to report (2-3 sentences)*\n",
    "\n",
    "We will create visualizations of the data with varying graphs, using numpy and matplot, to compare various attributes. We also hope to generate an epidemiological or geospatial map, using geopandas, but we have less experience with that. \n",
    "\n",
    "Packages we plan to use:\n",
    "- a pandas\n",
    "- b geopandas \n",
    "- c numpy\n",
    "- d Matplotlib\n"
   ]
  },
  {
   "cell_type": "markdown",
   "metadata": {},
   "source": [
    "### Ethics and Privacy\n",
    "\n",
    "Briefly acknowledge and address any potential issues of ethics and privacy for the proposed project. In particular:\n",
    "- Do you have permission to use this data, for this purpose?\n",
    "- Are there privacy concerns regarding your datasets that you need to deal with, and/or terms of use that you need to comply with?\n",
    "- Are there potential biases in your dataset(s), in terms of who it composes, and how it was collected, that may be problematic in terms of it allowing for equitable analysis? (For example, does your data exclude particular populations, or is it likely to reflect particular human biases in a way that could be a problem?) \n",
    "- Are there any other issues related to your topic area, data, and/or analyses that are potentially problematic in terms of data privacy and equitable impact?\n",
    "- How will you handle any issues you identify?\n",
    "\n",
    "(1-2 paragraphs)"
   ]
  },
  {
   "cell_type": "markdown",
   "metadata": {},
   "source": [
    "According to the CDC these are the guidelines for using any information from their publicly available dataset:\n",
    "    \n",
    "Use these data for health statistical reporting and analysis only.\n",
    "For sub-national geography, do not present or publish death counts of 9 or fewer or death rates based on counts of nine or fewer (in figures, graphs, maps, tables, etc.).\n",
    "Make no attempt to learn the identity of any person or establishment included in these data.\n",
    "Make no disclosure or other use of the identity of any person or establishment discovered inadvertently and advise the NCHS Confidentiality Officer of any such discovery.\n",
    "\n",
    "So, in analyzing our data, we will drop any county observations that include less than 9 deaths. Other than the sub-national geography(county), our dataset does not include any other identifiable markers. Although, the Safe Harbor Method taught in lecture requires that any geographic region smaller than a state be dropped, we feel that since the CDC website allow"
   ]
  },
  {
   "cell_type": "markdown",
   "metadata": {},
   "source": [
    "### Discussion\n",
    "\n",
    "Discuss your project, looking forward to what your results might mean, how they fit it in with what is already known, and what problems you may encounter. \n",
    "\n",
    "In particular:\n",
    "- If your analyses and hypotheses are correct, what will be the contribution of this project to the topic domain? \n",
    "- Alternatively, what will you do if you methods don't work and/or your hypotheses are wrong? \n",
    "- What are the potential pitfalls and potential confounds of your data and/or methods that may cause problems, and/or influence your interpretations?\n",
    "\n",
    "(2-3 paragraphs)"
   ]
  },
  {
   "cell_type": "markdown",
   "metadata": {},
   "source": [
    "This project explores the relationship between race and healthcare provision as represented by infant mortality. Should we find that racial identity does negatively impact the survival of infants in childbirth, this could implicate the larger health disadvantage into adulthood for people of color. Future research may include tracking the health and morbidity of all ages by race and ethnicity. Larger implications of our results would also hold social, political, and health structure liable to negligence and reinforce that these problems be addressed for the justice and betterment of population health. On a smaller scale, certain counties that have been identified as having larger minority populations and treating them with inferior care must re-evaluate and modify their practices to equalize care across all identities. From a public health perspective, most likely some intervention such as additional training for healthcare personnel could be implemented based on our results. \n"
   ]
  }
 ],
 "metadata": {
  "kernelspec": {
   "display_name": "Python 3",
   "language": "python",
   "name": "python3"
  },
  "language_info": {
   "codemirror_mode": {
    "name": "ipython",
    "version": 3
   },
   "file_extension": ".py",
   "mimetype": "text/x-python",
   "name": "python",
   "nbconvert_exporter": "python",
   "pygments_lexer": "ipython3",
   "version": "3.7.1"
  }
 },
 "nbformat": 4,
 "nbformat_minor": 2
}
